{
 "cells": [
  {
   "cell_type": "markdown",
   "id": "7f9508e6",
   "metadata": {},
   "source": [
    "# Exercise: Derivatives\n",
    "\n",
    "- by Börge Göbel"
   ]
  },
  {
   "cell_type": "code",
   "execution_count": 1,
   "id": "04fafd2c",
   "metadata": {},
   "outputs": [],
   "source": [
    "import numpy as np\n",
    "import matplotlib.pyplot as plt "
   ]
  },
  {
   "cell_type": "markdown",
   "id": "1d7d137f",
   "metadata": {},
   "source": [
    "### Load data"
   ]
  },
  {
   "cell_type": "code",
   "execution_count": 2,
   "id": "eeb0d15b",
   "metadata": {},
   "outputs": [],
   "source": [
    "data = np.loadtxt(\"04b_Exercise_velocity_acceleration_data_file.dat\")"
   ]
  },
  {
   "cell_type": "code",
   "execution_count": 3,
   "id": "c635be8b",
   "metadata": {},
   "outputs": [
    {
     "data": {
      "text/plain": [
       "array([[  0.        ,   1.        ],\n",
       "       [  0.1       ,   1.01980001],\n",
       "       [  0.2       ,   1.03920011],\n",
       "       ...,\n",
       "       [ 99.8       ,  15.25565932],\n",
       "       [ 99.9       ,  15.33160759],\n",
       "       [100.        ,  15.40808206]])"
      ]
     },
     "execution_count": 3,
     "metadata": {},
     "output_type": "execute_result"
    }
   ],
   "source": [
    "data"
   ]
  },
  {
   "cell_type": "code",
   "execution_count": 4,
   "id": "dc649d6e",
   "metadata": {},
   "outputs": [
    {
     "data": {
      "text/plain": [
       "<matplotlib.collections.PathCollection at 0x221e63d15e0>"
      ]
     },
     "execution_count": 4,
     "metadata": {},
     "output_type": "execute_result"
    },
    {
     "data": {
      "image/png": "[encoded data removed]",
      "text/plain": [
       "<Figure size 432x288 with 1 Axes>"
      ]
     },
     "metadata": {
      "needs_background": "light"
     },
     "output_type": "display_data"
    }
   ],
   "source": [
    "plt.xlabel('Time t [s]')\n",
    "plt.ylabel('Coordinate x [m]')\n",
    "plt.scatter(data[:,0],data[:,1])"
   ]
  },
  {
   "cell_type": "markdown",
   "id": "eb7db420",
   "metadata": {},
   "source": [
    "### Task"
   ]
  },
  {
   "attachments": {},
   "cell_type": "markdown",
   "id": "96ae330b",
   "metadata": {},
   "source": [
    "Calculate the velocity $$v(t)=\\dot{x}(t)$$ and the acceleration $$a(t)=\\ddot{x}(t)$$ for the loaded data set that describes a set of points $$(t_i,x_i)$$ for $$i=0,\\dots,1000$$.\n",
    "\n",
    "1. Calculate $$v_i$$ and $$a_i$$ using the forward-differences, central-differences and Richardson methods\n",
    "2. Determine the maximum value of the acceleration and the corresponding time.\n",
    "\n",
    "Be careful, now we do not know the function $$x(t)$$ but only its values for specific points. You have to define the functions for the derivativesa bit differently."
   ]
  },
  {
   "cell_type": "markdown",
   "id": "c9c52bff",
   "metadata": {},
   "source": [
    "### Solution"
   ]
  },
  {
   "cell_type": "code",
   "execution_count": 5,
   "id": "830aa249",
   "metadata": {},
   "outputs": [
    {
     "data": {
      "text/plain": [
       "array([  0. ,   0.1,   0.2, ...,  99.8,  99.9, 100. ])"
      ]
     },
     "execution_count": 5,
     "metadata": {},
     "output_type": "execute_result"
    }
   ],
   "source": [
    "data[:, 0]"
   ]
  },
  {
   "cell_type": "code",
   "execution_count": 19,
   "id": "84015415",
   "metadata": {},
   "outputs": [],
   "source": [
    "def forward(data):\n",
    "    derive = np.zeros(len(data[:, 1]))\n",
    "    # for equidistant data\n",
    "    # h = (data[1, 0] - data[0, 0])\n",
    "    # velocity[: -1] = (data[1:, 1] - data[:-1, 1]) / h\n",
    "    # general\n",
    "    derive[:-1] = (data[1:, 1] - data[:-1, 1]) / (data[1:, 0] - data[:-1, 0])\n",
    "    # Last value use backwards method (or just set to second-Last value)\n",
    "    derive[-1] = (data[-1, 1] - data[-2, 1]) / (data[-1, 0] - data[-2, 0])\n",
    "    return np.transpose([data[:, 0], derive])"
   ]
  },
  {
   "cell_type": "code",
   "execution_count": 22,
   "id": "65ded37e",
   "metadata": {},
   "outputs": [],
   "source": [
    "velocityForward = forward(data)\n",
    "accelerationForward = forward(forward(data))"
   ]
  },
  {
   "cell_type": "code",
   "execution_count": 23,
   "id": "3d42bac5",
   "metadata": {},
   "outputs": [],
   "source": [
    "def central(data):\n",
    "    derive = np.zeros(len(data[:, 1]))\n",
    "    derive[1:-1] = (data[2:,1] - data[:-2, 1]) / (data[2:, 0] - data[:-2, 0])\n",
    "    # first value use forward method or just set to second value\n",
    "    derive[0] = (data[1, 1] - data[0, 1]) / (data[1, 0] - data[0, 0])\n",
    "    # last value\n",
    "    derive[-1] = (data[-1, 1] - data[-2, 1]) / (data[-1, 0] - data[-2, 0])\n",
    "    return np.transpose([data[:, 0], derive])\n",
    "    "
   ]
  },
  {
   "cell_type": "code",
   "execution_count": 25,
   "id": "b932ebbe",
   "metadata": {},
   "outputs": [],
   "source": [
    "velocityCentral = central(data)\n",
    "accelerationCentral = central(central(data))"
   ]
  },
  {
   "cell_type": "code",
   "execution_count": 29,
   "id": "6b015ced",
   "metadata": {},
   "outputs": [
    {
     "data": {
      "text/plain": [
       "<matplotlib.collections.PathCollection at 0x1d2158a7d90>"
      ]
     },
     "execution_count": 29,
     "metadata": {},
     "output_type": "execute_result"
    },
    {
     "data": {
      "image/png": "[encoded data removed]",
      "text/plain": [
       "<Figure size 640x480 with 1 Axes>"
      ]
     },
     "metadata": {},
     "output_type": "display_data"
    }
   ],
   "source": [
    "plt.xlabel('Time t [s]')\n",
    "plt.ylabel('Velocity v [m/s]')\n",
    "\n",
    "plt.scatter(velocityForward[:, 0], velocityForward[:, 1], c='green')\n",
    "plt.scatter(accelerationForward[:, 0], accelerationForward[:, 1], c='red')\n",
    "plt.scatter(accelerationCentral[:, 0], accelerationCentral[:, 1], c='yellow')"
   ]
  },
  {
   "cell_type": "code",
   "execution_count": null,
   "id": "78b87549",
   "metadata": {},
   "outputs": [],
   "source": []
  }
 ],
 "metadata": {
  "kernelspec": {
   "display_name": "computational_science",
   "language": "python",
   "name": "python3"
  },
  "language_info": {
   "codemirror_mode": {
    "name": "ipython",
    "version": 3
   },
   "file_extension": ".py",
   "mimetype": "text/x-python",
   "name": "python",
   "nbconvert_exporter": "python",
   "pygments_lexer": "ipython3",
   "version": "3.10.9"
  },
  "vscode": {
   "interpreter": {
    "hash": "f237512f8f6dd7f63d5bcaecc0e8ab51d859cd4ca2865511bac307aed437dece"
   }
  }
 },
 "nbformat": 4,
 "nbformat_minor": 5
}
